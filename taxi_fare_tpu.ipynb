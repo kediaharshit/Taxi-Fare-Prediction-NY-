{
  "nbformat": 4,
  "nbformat_minor": 0,
  "metadata": {
    "colab": {
      "name": "cloud_test3.ipynb",
      "provenance": [],
      "collapsed_sections": []
    },
    "kernelspec": {
      "name": "python3",
      "display_name": "Python 3"
    },
    "accelerator": "TPU"
  },
  "cells": [
    {
      "cell_type": "code",
      "metadata": {
        "id": "o6GWL62LPrKV",
        "colab_type": "code",
        "colab": {
          "base_uri": "https://localhost:8080/",
          "height": 54
        },
        "outputId": "929d477e-42ef-4713-e23c-0f5c714b25e7"
      },
      "source": [
        "from google.colab import drive\n",
        "drive.mount('/content/drive')"
      ],
      "execution_count": null,
      "outputs": [
        {
          "output_type": "stream",
          "text": [
            "Drive already mounted at /content/drive; to attempt to forcibly remount, call drive.mount(\"/content/drive\", force_remount=True).\n"
          ],
          "name": "stdout"
        }
      ]
    },
    {
      "cell_type": "code",
      "metadata": {
        "id": "oWn_ppHghUmZ",
        "colab_type": "code",
        "colab": {
          "base_uri": "https://localhost:8080/",
          "height": 34
        },
        "outputId": "1e10d891-33a5-4912-c5af-a7f1c62ee207"
      },
      "source": [
        "%tensorflow_version 1.x"
      ],
      "execution_count": null,
      "outputs": [
        {
          "output_type": "stream",
          "text": [
            "TensorFlow 1.x selected.\n"
          ],
          "name": "stdout"
        }
      ]
    },
    {
      "cell_type": "code",
      "metadata": {
        "id": "hrgoPD4FPS0M",
        "colab_type": "code",
        "colab": {}
      },
      "source": [
        "\n",
        "from __future__ import print_function\n",
        "import pandas as pd\n",
        "import datetime as dt\n",
        "from sklearn import metrics\n",
        "import tensorflow as tf\n",
        "import numpy as np\n",
        "import math\n",
        "from tensorflow.python.data import Dataset\n",
        "from sklearn.model_selection import train_test_split\n",
        "import tensorflow.losses as loss_utils\n",
        "from sklearn.preprocessing import LabelEncoder\n",
        "import math\n",
        "import os\n"
      ],
      "execution_count": null,
      "outputs": []
    },
    {
      "cell_type": "code",
      "metadata": {
        "id": "OJB1ZywOPbxj",
        "colab_type": "code",
        "colab": {}
      },
      "source": [
        "\n",
        "data_set = pd.read_csv('/content/drive/My Drive/Ass4_data/train.csv', sep = ',', nrows = 100000);\n",
        "data_set.fillna(method='bfill',inplace=True)"
      ],
      "execution_count": null,
      "outputs": []
    },
    {
      "cell_type": "code",
      "metadata": {
        "id": "IkoufggLPgsM",
        "colab_type": "code",
        "colab": {}
      },
      "source": [
        "time = pd.to_datetime(data_set['pickup_datetime'], format=\"%Y-%m-%d %H:%M:%S UTC\", exact = True)\n",
        "data_set['month'] = [i.month for i in time]\n",
        "data_set['date'] = [i.day for i in time]\n",
        "data_set['hour'] = [i.hour for i in time]\n",
        "data_set['minute'] = [i.minute for i in time]\n",
        "\n"
      ],
      "execution_count": null,
      "outputs": []
    },
    {
      "cell_type": "code",
      "metadata": {
        "id": "wGwexg8XjsMb",
        "colab_type": "code",
        "colab": {}
      },
      "source": [
        "#fitering corrupt/0 entry fields (some have  0 latitude/longitude)\n",
        "#normalise \n",
        "input = data_set.to_numpy()\n",
        "input = input[np.all(input != 0, axis=1)]\n",
        "input[:, 3] += 73\n",
        "input[:, 4] -= 40\n",
        "input[:, 5] += 73\n",
        "input[:, 6] -= 40"
      ],
      "execution_count": null,
      "outputs": []
    },
    {
      "cell_type": "code",
      "metadata": {
        "id": "tLKDIZ0GjsZ0",
        "colab_type": "code",
        "colab": {}
      },
      "source": [
        "x_train,x_test,y_train,y_test = train_test_split(input[:, 3:],input[:, 1],shuffle=True,test_size=0.1)\n",
        "\n",
        "x_train = x_train.astype('float32')\n",
        "y_train = y_train.astype('float32')\n",
        "x_test = x_test.astype('float32')\n",
        "y_test = y_test.astype('float32')\n",
        "\n",
        "#print(x_train.shape,x_test.shape,y_train.shape,y_test.shape)"
      ],
      "execution_count": null,
      "outputs": []
    },
    {
      "cell_type": "code",
      "metadata": {
        "id": "0f7TU61ewOka",
        "colab_type": "code",
        "colab": {
          "base_uri": "https://localhost:8080/",
          "height": 34
        },
        "outputId": "e66d30c6-d49e-4bfb-a5ec-b2692567457e"
      },
      "source": [
        "if 'COLAB_TPU_ADDR' not in os.environ:\n",
        "  print('ERROR: Not connected to a TPU runtime; please select TPU in runtime!')\n",
        "else:\n",
        "  tpu_address = 'grpc://' + os.environ['COLAB_TPU_ADDR']\n",
        "  print ('TPU address: ', tpu_address)"
      ],
      "execution_count": null,
      "outputs": [
        {
          "output_type": "stream",
          "text": [
            "TPU address:  grpc://10.116.207.90:8470\n"
          ],
          "name": "stdout"
        }
      ]
    },
    {
      "cell_type": "code",
      "metadata": {
        "id": "dpA-nCWBjsf9",
        "colab_type": "code",
        "colab": {}
      },
      "source": [
        "def init_weights(shape):\n",
        "    return tf.Variable(tf.truncated_normal(shape, 0.01, 0.01))\n",
        "\n",
        "def init_biases(shape):\n",
        "    return tf.Variable(tf.zeros(shape))\n",
        "\n",
        "def fc_layer(inputs, input_shape, output_shape, activation=tf.nn.relu):\n",
        "\n",
        "    weights = init_weights([input_shape, output_shape])\n",
        "    biases = init_biases([output_shape])\n",
        "    \n",
        "    layer = tf.matmul(inputs, weights) + biases\n",
        "    \n",
        "    if activation != None:\n",
        "        layer = activation(layer)\n",
        "        \n",
        "    return layer"
      ],
      "execution_count": null,
      "outputs": []
    },
    {
      "cell_type": "code",
      "metadata": {
        "id": "D9VUg5JlkPVf",
        "colab_type": "code",
        "colab": {}
      },
      "source": [
        "inputs =  tf.placeholder(tf.float32, [None, 9], name='Inputs')\n",
        "targets =  tf.placeholder(tf.float32, [None, 1], name='Targets')\n"
      ],
      "execution_count": null,
      "outputs": []
    },
    {
      "cell_type": "code",
      "metadata": {
        "id": "dBTUv2dFkWMe",
        "colab_type": "code",
        "colab": {}
      },
      "source": [
        "#defining the network\n",
        "l1 = fc_layer(inputs, 9, 10)\n",
        "l2 = fc_layer(l1, 10, 10)\n",
        "l3 = fc_layer(l2, 10, 10)\n",
        "l4 = fc_layer(l3, 10, 1, activation=None)\n",
        "predictions = l4\n",
        "\n",
        "cost = loss2 = tf.reduce_mean(tf.squared_difference(targets, predictions))\n",
        "learning_rate = 0.001\n",
        "optimizer = tf.train.AdamOptimizer(learning_rate).minimize(cost)\n",
        "\n",
        "epochs = 1000\n",
        "batch_size = 1000"
      ],
      "execution_count": null,
      "outputs": []
    },
    {
      "cell_type": "code",
      "metadata": {
        "id": "afQuMpNikWGx",
        "colab_type": "code",
        "colab": {
          "base_uri": "https://localhost:8080/",
          "height": 221
        },
        "outputId": "f04309bb-1778-482e-8bc0-455bed89ea6d"
      },
      "source": [
        "from tqdm import tqdm\n",
        "\n",
        "with tf.Session(tpu_address) as sess:\n",
        "    sess.run(tf.global_variables_initializer())\n",
        "    #TRAINING PORTION OF THE SESSION\n",
        "    for i in tqdm(range(epochs)):\n",
        "        idx = np.random.choice(len(x_train), batch_size, replace=True)\n",
        "        x_batch = x_train[idx, :]\n",
        "        y_batch = y_train[idx]\n",
        "        y_batch = np.reshape(y_batch, (len(y_batch), 1))\n",
        "        \n",
        "        batch_loss, opt = sess.run([cost, optimizer], feed_dict={inputs:x_batch, targets:y_batch})\n",
        "        \n",
        "        if i % 100 == 0:\n",
        "            print(\" error: \" , batch_loss)\n",
        "    \n",
        "    #TESTING PORTION OF THE SESSION\n",
        "    preds = sess.run([predictions], feed_dict={inputs:x_test})\n",
        "    preds = np.reshape(preds, (len(y_test)))\n",
        "    print(max(preds), min(preds))\n"
      ],
      "execution_count": null,
      "outputs": [
        {
          "output_type": "stream",
          "text": [
            "  1%|          | 6/1000 [00:00<01:30, 10.95it/s]"
          ],
          "name": "stderr"
        },
        {
          "output_type": "stream",
          "text": [
            " error:  207.12029\n"
          ],
          "name": "stdout"
        },
        {
          "output_type": "stream",
          "text": [
            " 15%|█▌        | 152/1000 [00:00<00:12, 66.61it/s]"
          ],
          "name": "stderr"
        },
        {
          "output_type": "stream",
          "text": [
            " error:  115.423546\n"
          ],
          "name": "stdout"
        },
        {
          "output_type": "stream",
          "text": [
            " 29%|██▉       | 288/1000 [00:01<00:04, 150.79it/s]"
          ],
          "name": "stderr"
        },
        {
          "output_type": "stream",
          "text": [
            " error:  105.97639\n"
          ],
          "name": "stdout"
        },
        {
          "output_type": "stream",
          "text": [
            " 38%|███▊      | 381/1000 [00:01<00:02, 230.24it/s]"
          ],
          "name": "stderr"
        },
        {
          "output_type": "stream",
          "text": [
            " error:  88.10714\n"
          ],
          "name": "stdout"
        },
        {
          "output_type": "stream",
          "text": [
            " 47%|████▋     | 472/1000 [00:01<00:01, 306.72it/s]"
          ],
          "name": "stderr"
        },
        {
          "output_type": "stream",
          "text": [
            " error:  92.17597\n"
          ],
          "name": "stdout"
        },
        {
          "output_type": "stream",
          "text": [
            " 56%|█████▋    | 563/1000 [00:01<00:01, 365.60it/s]"
          ],
          "name": "stderr"
        },
        {
          "output_type": "stream",
          "text": [
            " error:  94.1341\n"
          ],
          "name": "stdout"
        },
        {
          "output_type": "stream",
          "text": [
            " 66%|██████▌   | 658/1000 [00:01<00:00, 413.57it/s]"
          ],
          "name": "stderr"
        },
        {
          "output_type": "stream",
          "text": [
            " error:  102.51587\n"
          ],
          "name": "stdout"
        },
        {
          "output_type": "stream",
          "text": [
            " 75%|███████▌  | 753/1000 [00:02<00:00, 441.56it/s]"
          ],
          "name": "stderr"
        },
        {
          "output_type": "stream",
          "text": [
            " error:  116.50255\n"
          ],
          "name": "stdout"
        },
        {
          "output_type": "stream",
          "text": [
            " 85%|████████▍ | 849/1000 [00:02<00:00, 454.62it/s]"
          ],
          "name": "stderr"
        },
        {
          "output_type": "stream",
          "text": [
            " error:  103.73591\n"
          ],
          "name": "stdout"
        },
        {
          "output_type": "stream",
          "text": [
            " 99%|█████████▉| 990/1000 [00:02<00:00, 457.42it/s]"
          ],
          "name": "stderr"
        },
        {
          "output_type": "stream",
          "text": [
            " error:  113.1389\n"
          ],
          "name": "stdout"
        },
        {
          "output_type": "stream",
          "text": [
            "\r100%|██████████| 1000/1000 [00:02<00:00, 368.72it/s]\n"
          ],
          "name": "stderr"
        },
        {
          "output_type": "stream",
          "text": [
            "487.757 1.700698\n"
          ],
          "name": "stdout"
        }
      ]
    },
    {
      "cell_type": "code",
      "metadata": {
        "id": "058cJUIKkPZk",
        "colab_type": "code",
        "colab": {
          "base_uri": "https://localhost:8080/",
          "height": 34
        },
        "outputId": "78c762b9-0884-4b65-9b77-9c83d3cd8abf"
      },
      "source": [
        "rmse = 0\n",
        "for i in range(len(preds)):\n",
        "    rmse += (preds[i] - y_test[i])**2\n",
        "rmse /= len(preds)\n",
        "print(rmse**0.5)"
      ],
      "execution_count": null,
      "outputs": [
        {
          "output_type": "stream",
          "text": [
            "10.845746120690487\n"
          ],
          "name": "stdout"
        }
      ]
    },
    {
      "cell_type": "code",
      "metadata": {
        "id": "MXEoQIDKlsPd",
        "colab_type": "code",
        "colab": {
          "base_uri": "https://localhost:8080/",
          "height": 51
        },
        "outputId": "59e2c3be-6557-4309-f32c-bcef482654a3"
      },
      "source": [
        "preds\n"
      ],
      "execution_count": null,
      "outputs": [
        {
          "output_type": "execute_result",
          "data": {
            "text/plain": [
              "array([11.006992, 10.022571, 11.041456, ...,  8.790719, 11.237871,\n",
              "       11.929437], dtype=float32)"
            ]
          },
          "metadata": {
            "tags": []
          },
          "execution_count": 14
        }
      ]
    },
    {
      "cell_type": "code",
      "metadata": {
        "id": "nqKsZBqCltC9",
        "colab_type": "code",
        "colab": {}
      },
      "source": [
        ""
      ],
      "execution_count": null,
      "outputs": []
    }
  ]
}